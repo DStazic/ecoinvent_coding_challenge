{
 "cells": [
  {
   "cell_type": "code",
   "execution_count": 10,
   "metadata": {
    "collapsed": true
   },
   "outputs": [],
   "source": [
    "from parser import *\n",
    "from plotter import *\n",
    "import os\n",
    "import re"
   ]
  },
  {
   "cell_type": "code",
   "execution_count": 13,
   "metadata": {
    "collapsed": false
   },
   "outputs": [],
   "source": [
    "def pipeline(folder_name,parseXML,plotting):\n",
    "    \"\"\"\n",
    "    Takes the folder name where the spold files are stored, parseXML class and plotting class as input.\n",
    "    For each file, parsing and plotting is invoked. The figure is saved in png format in the same folder.\n",
    "    \"\"\"\n",
    "        \n",
    "    # take only spold files to avoid downstream errors\n",
    "    folder = [f for f in os.listdir(os.path.join(os.getcwd(),\"files\")) if re.search(r\"\\bspold\\b\", f)]\n",
    "    \n",
    "    for file_ in folder:\n",
    "        path = os.path.join(os.getcwd(),\"files\",file_)\n",
    "        #process\n",
    "        parser = parseXML(path)\n",
    "        parser.process()\n",
    "\n",
    "        # plot\n",
    "        plotter = plotting(parser)\n",
    "        figure = plotter.plotResults() \n",
    "\n",
    "        figure.savefig(os.path.join(os.getcwd(),folder_name,\"{}_figure.png\".format(file_)))\n",
    "        \n",
    "        "
   ]
  },
  {
   "cell_type": "code",
   "execution_count": 14,
   "metadata": {
    "collapsed": false
   },
   "outputs": [
    {
     "name": "stderr",
     "output_type": "stream",
     "text": [
      "//anaconda/envs/python3.5/lib/python3.5/site-packages/matplotlib/pyplot.py:524: RuntimeWarning: More than 20 figures have been opened. Figures created through the pyplot interface (`matplotlib.pyplot.figure`) are retained until explicitly closed and may consume too much memory. (To control this warning, see the rcParam `figure.max_open_warning`).\n",
      "  max_open_warning, RuntimeWarning)\n"
     ]
    }
   ],
   "source": [
    "pipeline(\"files\",parseXML,plotting) "
   ]
  },
  {
   "cell_type": "markdown",
   "metadata": {},
   "source": [
    "https://github.com/DStazic/ecoinvent_coding_challenge\n",
    "\n"
   ]
  }
 ],
 "metadata": {
  "anaconda-cloud": {},
  "kernelspec": {
   "display_name": "Python [conda env:python3.5]",
   "language": "python",
   "name": "conda-env-python3.5-py"
  },
  "language_info": {
   "codemirror_mode": {
    "name": "ipython",
    "version": 3
   },
   "file_extension": ".py",
   "mimetype": "text/x-python",
   "name": "python",
   "nbconvert_exporter": "python",
   "pygments_lexer": "ipython3",
   "version": "3.5.2"
  }
 },
 "nbformat": 4,
 "nbformat_minor": 2
}
