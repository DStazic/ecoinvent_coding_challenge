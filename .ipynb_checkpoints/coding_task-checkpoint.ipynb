{
 "cells": [
  {
   "cell_type": "markdown",
   "metadata": {},
   "source": [
    "following describes the final output of the processed data:\n",
    "\n",
    "The central box shows the activityName and geography short-name field content. To the right, the reference product and byproducts are shown. Inputs from technosphere are at the left, emissions to environment are on the top and inputs from environment are at the bottom. These are 4 “groups” of exchanges.\n",
    "\n",
    "Based on this, get acquainted with the data structure\n",
    "- find xml elements or any description in each file that refer to the elements used for the visualization (\"activityName\", \"geography\", \"reference product and byproduct\",\"techosphere input\", \"environment emission\", \"environment input\"\n",
    "\n",
    "\n",
    "**intermediateExchange** \n",
    "An exchange between two activities that stays within the technosphere and is not emitted to or taken from the environment.\n",
    "-input from technosphere into another part of the technosphere  \n",
    "\n",
    "\n",
    "**elementaryExchange** \n",
    "Exchange with the natural, social or economic environment. Examples: Unprocessed inputs from nature, emissions to air, water and soil, physical impacts, working hours under specified conditions.\n",
    "\n",
    "\n",
    "reference product\n",
    "-intermediateExchange, outputGroup 0\n",
    "\n",
    "byproduct\n",
    "-intermediateExchange, outputGroup 2\n",
    "--> filter 4 (main product is the 5th group member); filter according to production volume (tag productionVolumeAmount)\n",
    "\n",
    "input from techosphere\n",
    "-inputGroup 5 in intermediateExchange\n",
    "--> filter 5; filter according to largest amount (attrib amount)\n",
    "\n",
    "input from environment\n",
    "-inputGroup 4 in elementaryExchange\n",
    "\n",
    "emissions to environment\n",
    "-outputGroup 4 in elementaryExchange\n",
    "\n",
    "activityName\n",
    "-directly from the activityName element\n",
    "\n",
    "geography shortname\n",
    "-child of the geography element (shortname; here text)"
   ]
  },
  {
   "cell_type": "markdown",
   "metadata": {},
   "source": [
    "biogenic carbon vs. fossil carbon:\n",
    "- biogenic carbon is part of the cycle; upon combustation, the amount of carbon is released that was prior sequestered in biomass due to growth. so the overall system is not disturbed. combustation of fossil fuel, on the other hand, change the overall CO2 concentration in the system due to release of carbon that is sequestered in soil for millions of years!!"
   ]
  },
  {
   "cell_type": "code",
   "execution_count": 6,
   "metadata": {
    "collapsed": true
   },
   "outputs": [],
   "source": [
    "import xml.etree.ElementTree as ET\n",
    "import re\n",
    "import os"
   ]
  },
  {
   "cell_type": "code",
   "execution_count": 3,
   "metadata": {
    "collapsed": false
   },
   "outputs": [
    {
     "data": {
      "text/plain": [
       "['025a593a-f891-4750-8f58-1d47fd209d7c.spold',\n",
       " '1cf3e001-005f-4f4e-8ee7-57fde7055b80.spold',\n",
       " '1de9b8e0-22ad-44c9-8484-54aa57ce3dd7.spold',\n",
       " '1e187606-e5a7-4526-b652-e519e51b07a6.spold',\n",
       " '1fd7de1f-f934-46ae-8d18-3a85502e8a95.spold',\n",
       " '46670f16-8da0-4bbf-a84c-9f1e3023c8f3.spold',\n",
       " '5a4129c9-1ae7-4e8d-a7c2-1016a5814161.spold',\n",
       " '6598953b-c375-531b-9c7f-5572cc9d2ea7.spold',\n",
       " '6de99777-363f-43b0-83cb-0e34485dcacc.spold',\n",
       " '77a16b81-395c-4ffc-bd0b-a9cc07a008a8.spold',\n",
       " 'coding_task.ipynb']"
      ]
     },
     "execution_count": 3,
     "metadata": {},
     "output_type": "execute_result"
    }
   ],
   "source": [
    "[f for f in os.listdir(os.getcwd()) if os.path.isfile(f)]"
   ]
  },
  {
   "cell_type": "markdown",
   "metadata": {},
   "source": [
    "Get acquainted with the data structure. Print all XML elements and check if any directly refers (same name) to elements used for visualization (\"activityName\", \"geography\", \"reference product and byproduct\",\"techosphere input\", \"environment emission\", \"environment input\")"
   ]
  },
  {
   "cell_type": "code",
   "execution_count": 621,
   "metadata": {
    "collapsed": false,
    "scrolled": true
   },
   "outputs": [
    {
     "data": {
      "text/plain": [
       "{'{http://www.EcoInvent.org/EcoSpold02}activity',\n",
       " '{http://www.EcoInvent.org/EcoSpold02}activityDataset',\n",
       " '{http://www.EcoInvent.org/EcoSpold02}activityDescription',\n",
       " '{http://www.EcoInvent.org/EcoSpold02}activityName',\n",
       " '{http://www.EcoInvent.org/EcoSpold02}administrativeInformation',\n",
       " '{http://www.EcoInvent.org/EcoSpold02}classification',\n",
       " '{http://www.EcoInvent.org/EcoSpold02}classificationSystem',\n",
       " '{http://www.EcoInvent.org/EcoSpold02}classificationValue',\n",
       " '{http://www.EcoInvent.org/EcoSpold02}comment',\n",
       " '{http://www.EcoInvent.org/EcoSpold02}compartment',\n",
       " '{http://www.EcoInvent.org/EcoSpold02}contextName',\n",
       " '{http://www.EcoInvent.org/EcoSpold02}dataEntryBy',\n",
       " '{http://www.EcoInvent.org/EcoSpold02}dataGeneratorAndPublication',\n",
       " '{http://www.EcoInvent.org/EcoSpold02}details',\n",
       " '{http://www.EcoInvent.org/EcoSpold02}ecoSpold',\n",
       " '{http://www.EcoInvent.org/EcoSpold02}elementaryExchange',\n",
       " '{http://www.EcoInvent.org/EcoSpold02}extrapolations',\n",
       " '{http://www.EcoInvent.org/EcoSpold02}fileAttributes',\n",
       " '{http://www.EcoInvent.org/EcoSpold02}flowData',\n",
       " '{http://www.EcoInvent.org/EcoSpold02}generalComment',\n",
       " '{http://www.EcoInvent.org/EcoSpold02}geography',\n",
       " '{http://www.EcoInvent.org/EcoSpold02}imageUrl',\n",
       " '{http://www.EcoInvent.org/EcoSpold02}includedActivitiesEnd',\n",
       " '{http://www.EcoInvent.org/EcoSpold02}includedActivitiesStart',\n",
       " '{http://www.EcoInvent.org/EcoSpold02}inputGroup',\n",
       " '{http://www.EcoInvent.org/EcoSpold02}intermediateExchange',\n",
       " '{http://www.EcoInvent.org/EcoSpold02}lognormal',\n",
       " '{http://www.EcoInvent.org/EcoSpold02}macroEconomicScenario',\n",
       " '{http://www.EcoInvent.org/EcoSpold02}modellingAndValidation',\n",
       " '{http://www.EcoInvent.org/EcoSpold02}name',\n",
       " '{http://www.EcoInvent.org/EcoSpold02}otherDetails',\n",
       " '{http://www.EcoInvent.org/EcoSpold02}outputGroup',\n",
       " '{http://www.EcoInvent.org/EcoSpold02}parameter',\n",
       " '{http://www.EcoInvent.org/EcoSpold02}pedigreeMatrix',\n",
       " '{http://www.EcoInvent.org/EcoSpold02}productionVolumeComment',\n",
       " '{http://www.EcoInvent.org/EcoSpold02}productionVolumeUncertainty',\n",
       " '{http://www.EcoInvent.org/EcoSpold02}property',\n",
       " '{http://www.EcoInvent.org/EcoSpold02}representativeness',\n",
       " '{http://www.EcoInvent.org/EcoSpold02}review',\n",
       " '{http://www.EcoInvent.org/EcoSpold02}samplingProcedure',\n",
       " '{http://www.EcoInvent.org/EcoSpold02}shortname',\n",
       " '{http://www.EcoInvent.org/EcoSpold02}subcompartment',\n",
       " '{http://www.EcoInvent.org/EcoSpold02}synonym',\n",
       " '{http://www.EcoInvent.org/EcoSpold02}systemModelName',\n",
       " '{http://www.EcoInvent.org/EcoSpold02}technology',\n",
       " '{http://www.EcoInvent.org/EcoSpold02}text',\n",
       " '{http://www.EcoInvent.org/EcoSpold02}timePeriod',\n",
       " '{http://www.EcoInvent.org/EcoSpold02}uncertainty',\n",
       " '{http://www.EcoInvent.org/EcoSpold02}unitName'}"
      ]
     },
     "execution_count": 621,
     "metadata": {},
     "output_type": "execute_result"
    }
   ],
   "source": [
    "file_ = [f for f in os.listdir(os.getcwd()) if os.path.isfile(f)][1]\n",
    "tree = ET.parse(file_)\n",
    "root = tree.getroot()\n",
    " \n",
    "set([elem.tag for elem in tree.iter()])    "
   ]
  },
  {
   "cell_type": "markdown",
   "metadata": {},
   "source": [
    "The document is using a default xml namespace (http://www.EcoInvent.org/EcoSpold02);namespaces only relevant when combining multiple documents. Provide namespace together with element name when parsing.\n",
    "--> purpose of default namespace?\n",
    "\n",
    "Extract namespace string for parsing\n",
    "\n",
    "\n",
    "\"activityName\" and \"geography\" are present in the document. Let's do a sanity check whether those XML elements store the required information depicted by cognate elements in the figure."
   ]
  },
  {
   "cell_type": "code",
   "execution_count": 7,
   "metadata": {
    "collapsed": false
   },
   "outputs": [],
   "source": [
    "#extract namespace from root element; use to parse other elements\n",
    "namespace = re.search(r\"{.+}\",root.tag).group()"
   ]
  },
  {
   "cell_type": "code",
   "execution_count": 249,
   "metadata": {
    "collapsed": false,
    "scrolled": true
   },
   "outputs": [
    {
     "name": "stdout",
     "output_type": "stream",
     "text": [
      "RER\n",
      "RER\n",
      "RER\n",
      "RER\n",
      "RER\n",
      "RER\n",
      "RER\n",
      "RER\n",
      "RER\n"
     ]
    }
   ],
   "source": [
    "osm_file = \"zurich.osm\"\n",
    "def get_element(file_, elements = ('{http://www.EcoInvent.org/EcoSpold02}intermediateExchange')):\n",
    "    treebuilder = ET.iterparse(file_,events=(\"start\", \"end\"))\n",
    "    # skip the the root element and the next 3 elements (bounds, meta, node)\n",
    "    \n",
    "    for event, element in treebuilder:\n",
    "        #print element.tag\n",
    "        \n",
    "        if event == \"end\" and element.tag in elements:\n",
    "            print t\n",
    "            \n",
    "         #   yield element\n",
    "          #  skip.clear()\n",
    "        \n",
    "get_element(file_)        "
   ]
  },
  {
   "cell_type": "code",
   "execution_count": 176,
   "metadata": {
    "collapsed": false
   },
   "outputs": [],
   "source": [
    "#.// in element path (including namespace) will invoke search for an element anywhere within the tree structure.\n",
    "# any descendant node in the tree. Without the slash notation only direct descendant will be found\n",
    "\n",
    "def getElement(element):\n",
    "    return tree.find(\".//{0}{1}\".format(namespace,element))"
   ]
  },
  {
   "cell_type": "code",
   "execution_count": 180,
   "metadata": {
    "collapsed": false
   },
   "outputs": [
    {
     "data": {
      "text/plain": [
       "[<Element '{http://www.EcoInvent.org/EcoSpold02}activityName' at 0x10e35ad50>,\n",
       " <Element '{http://www.EcoInvent.org/EcoSpold02}geography' at 0x10e360050>]"
      ]
     },
     "execution_count": 180,
     "metadata": {},
     "output_type": "execute_result"
    }
   ],
   "source": [
    "\n",
    "for element in [\"activityName\", \"geography\"]:\n",
    "    print getElement(element)\n",
    "    "
   ]
  },
  {
   "cell_type": "code",
   "execution_count": 205,
   "metadata": {
    "collapsed": false
   },
   "outputs": [
    {
     "data": {
      "text/plain": [
       "['RER']"
      ]
     },
     "execution_count": 205,
     "metadata": {},
     "output_type": "execute_result"
    }
   ],
   "source": [
    "e =tree.find('.//{http://www.EcoInvent.org/EcoSpold02}geography')\n",
    "ee =e.find('.//{http://www.EcoInvent.org/EcoSpold02}shortname')\n",
    "[t for t in ee.itertext()]"
   ]
  },
  {
   "cell_type": "code",
   "execution_count": 376,
   "metadata": {
    "collapsed": false
   },
   "outputs": [
    {
     "data": {
      "text/plain": [
       "<Element '{http://www.EcoInvent.org/EcoSpold02}inputGroup' at 0x103701f90>"
      ]
     },
     "execution_count": 376,
     "metadata": {},
     "output_type": "execute_result"
    }
   ],
   "source": [
    "el_ex = tree.find('.//{http://www.EcoInvent.org/EcoSpold02}intermediateExchange')\n",
    "g = el_ex.find(\"{http://www.EcoInvent.org/EcoSpold02}inputGroup\")\n",
    "el_ex.find(\"{http://www.EcoInvent.org/EcoSpold02}name\").text\n",
    "\n",
    "#el_ex.find(\"{http://www.EcoInvent.org/EcoSpold02}unitName\").text\n",
    "\n",
    "#g.text\n",
    "\n",
    "\n",
    "el_ex.find(\"{http://www.EcoInvent.org/EcoSpold02}inputGroup\")\n",
    "\n"
   ]
  },
  {
   "cell_type": "code",
   "execution_count": 134,
   "metadata": {
    "collapsed": false
   },
   "outputs": [
    {
     "data": {
      "text/plain": [
       "'name,dsdsf'"
      ]
     },
     "execution_count": 134,
     "metadata": {},
     "output_type": "execute_result"
    }
   ],
   "source": [
    "test = \"name,dsdsf,uuuu\"\n",
    "\",\".join(test.split(\",\")[:2])"
   ]
  },
  {
   "cell_type": "markdown",
   "metadata": {},
   "source": [
    "\n",
    "\n",
    "\n",
    "reference product\n",
    "-intermediateExchange, outputGroup 0\n",
    "\n",
    "byproduct\n",
    "-intermediateExchange, outputGroup 2\n",
    "--> filter 4 (main product is the 5th group member); filter according to production volume (tag productionVolumeAmount)\n",
    "\n",
    "input from techosphere\n",
    "-inputGroup 5 in intermediateExchange\n",
    "--> filter 5; filter according to largest amount (attrib amount)\n",
    "\n",
    "input from environment\n",
    "-inputGroup 4 in elementaryExchange\n",
    "\n",
    "emissions to environment\n",
    "-outputGroup 4 in elementaryExchange\n",
    "\n",
    "activityName\n",
    "-directly from the activityName element\n",
    "\n",
    "geography shortname\n",
    "-child of the geography element (shortname; here text)\n",
    "\n"
   ]
  },
  {
   "cell_type": "markdown",
   "metadata": {},
   "source": [
    "use tree.iter() to iterate over the tree structure and extract relevant information for specific elements "
   ]
  },
  {
   "cell_type": "code",
   "execution_count": 27,
   "metadata": {
    "collapsed": false
   },
   "outputs": [],
   "source": [
    "NAMESPACE = '{http://www.EcoInvent.org/EcoSpold02}'\n",
    "MAPPING = {NAMESPACE + \"intermediateExchange\" : \"in_out_technosphere\" ,   #products, techosphere input\n",
    "               NAMESPACE + \"elementaryExchange\" : \"in_out_environment\",      #input environment, emission \n",
    "               NAMESPACE + \"activityName\" : \"activity\",                      #name of activity\n",
    "               NAMESPACE + \"geography\" :\"geography\"                          #location identifier\n",
    "               }\n",
    "    \n",
    "    \n",
    "    \n",
    "NAMESPACE = '{http://www.EcoInvent.org/EcoSpold02}'\n",
    "    MAPPING = {\"in_out_technosphere\" : [NAMESPACE + \"intermediateExchange\"],   #products, techosphere input\n",
    "               \"in_out_environment\" : [NAMESPACE + \"elementaryExchange\"],      #input environment, emission \n",
    "               \"activity\" : [NAMESPACE + \"activityName\"],                      #name of activity\n",
    "               \"geography\" : [NAMESPACE + \"geography\"]                          #location identifier\n",
    "               }    \n",
    "    "
   ]
  },
  {
   "cell_type": "code",
   "execution_count": null,
   "metadata": {
    "collapsed": true
   },
   "outputs": [],
   "source": [
    "# extract technosphere output                \n",
    "        #if output_group is not None:   #add reference product\n",
    "         #   volume = element.attrib[\"productionVolumeAmount\"]\n",
    "          #  if int(output_group.text) == 0:\n",
    "           #     self.TECHNOSPHERE[\"reference_product\"][name] += float(volume)\n",
    "\n",
    "            #elif int(output_group.text) == 2:   #add byproducts\n",
    "             #   self.mergeSameType(self.TECHNOSPHERE[\"byproduct\"],name)\n",
    "              #  self.filterExchange(self.TECHNOSPHERE[\"byproduct\"],name,volume)\n",
    "            \n",
    "            \n",
    "def filterExchange(self,exchange_group,exchange_name,quantity):\n",
    "        \"\"\"\n",
    "        update exchange groups acording \n",
    "        \"\"\"\n",
    "        sorted_group = sorted([(key,val) for key,val in exchange_group.iteritems()], key = lambda x: x[1]) \n",
    "        exchange_group[exchange_name] += float(quantity)\n",
    "        \"\"\"\n",
    "        if len(exchange_group) >= 5 and (float(quantity) > sorted_group[0][1]):\n",
    "            print \"QUANTITY type\", type(float(quantity)), \"SMALLEST VAL TYPE\",type(sorted_group[0][1])\n",
    "            del exchange_group[sorted_group[0][0]]\n",
    "            exchange_group[exchange_name] += float(quantity)\n",
    "        else:\n",
    "            exchange_group[exchange_name] += float(quantity)\n",
    "        \"\"\"      \n",
    "        \n",
    "\"byproduct\" : defaultdict(int),\n",
    "                             \"reference_product\" : defaultdict(int)        "
   ]
  },
  {
   "cell_type": "code",
   "execution_count": 755,
   "metadata": {
    "collapsed": false
   },
   "outputs": [
    {
     "data": {
      "text/plain": [
       "False"
      ]
     },
     "execution_count": 755,
     "metadata": {},
     "output_type": "execute_result"
    }
   ],
   "source": [
    "t=defaultdict(int)\n",
    "\n",
    "\"b\" in t"
   ]
  },
  {
   "cell_type": "code",
   "execution_count": 1010,
   "metadata": {
    "collapsed": false
   },
   "outputs": [],
   "source": [
    "from collections import defaultdict\n",
    "\n",
    "class parseXML(object):\n",
    "    \n",
    "    def __init__(self, file_):\n",
    "        self.file = file_\n",
    "        self.NAMESPACE =  '{http://www.EcoInvent.org/EcoSpold02}'\n",
    "        self.TECHNOSPHERE = {\"input\" : defaultdict(int),\n",
    "                             \"output\" : defaultdict(int)\n",
    "                            }\n",
    "        self.ENVIRONMENT = {\"input\" : defaultdict(int),\n",
    "                            \"output\" : defaultdict(int)\n",
    "                           }\n",
    "        \n",
    "        self.UNITS = dict()\n",
    "        self.COMBINE = defaultdict(set)\n",
    "        \n",
    "    def parseFile(self):\n",
    "        tree = ET.parse(self.file)       # build element tree\n",
    "        for element in tree.iter():  # iterate over the document\n",
    "            self.applyFilter(element)\n",
    "            \n",
    "    \n",
    "    def applyFilter(self,element):\n",
    "        \n",
    "        MAPPING = {self.NAMESPACE + \"intermediateExchange\" : self.technosphereFilter,      #products, techosphere input\n",
    "                   self.NAMESPACE + \"elementaryExchange\" : self.environmentFilter,         #input environment, emission \n",
    "                   self.NAMESPACE + \"activityName\" : self.activityFilter,                  #name of activity\n",
    "                   self.NAMESPACE + \"geography\" : self.geographyFilter                     #location identifier\n",
    "                  }\n",
    "        try:\n",
    "            MAPPING[element.tag](element)\n",
    "        except KeyError:\n",
    "            pass\n",
    "               \n",
    "                \n",
    "    def mergeSameType(self,exchange_group,exchange_name,quantity,unit_name):\n",
    "        \n",
    "        for k in exchange_group.keys():\n",
    "            \n",
    "            if exchange_name == k:\n",
    "                return False\n",
    "            \n",
    "            if exchange_name.split(\",\")[0] in k:\n",
    "                #check 1: not the same type of exchange but overlapping parts of name\n",
    "                #--> e.g., \"urea formaldehyde resin\" vs. \"urea, as N\"\n",
    "                if len(exchange_name.split(\",\")) != len(k.split(\",\")):\n",
    "                    return False\n",
    "                \n",
    "                if self.UNITS[exchange_name] == self.UNITS[k]:\n",
    "                    #self.COMBINE[exchange_name.split(\",\")[0]].add(k)\n",
    "                    #self.COMBINE[exchange_name.split(\",\")[0]].add(exchange_name)\n",
    "                    new_name = \"{}, combined\".format(exchange_name.split(\",\")[0])\n",
    "                    self.UNITS[new_name] = unit_name\n",
    "                    if new_name in exchange_group.keys():\n",
    "                        exchange_group[new_name] += quantity\n",
    "                        return True\n",
    "                    else:\n",
    "                        exchange_group[new_name] = round((exchange_group[k]+quantity),4)\n",
    "                        del exchange_group[k] \n",
    "                        return True\n",
    "                        \n",
    "                   \n",
    "        \n",
    "    \n",
    "                \n",
    "    def parseMetadata(self,element):  \n",
    "        name = \",\".join(element.find(self.NAMESPACE + \"name\").text.split(\",\")[:2]) # hierarchical order in name string; use name only\n",
    "        unit_name = element.find(self.NAMESPACE + \"unitName\").text\n",
    "        self.UNITS[name] = unit_name \n",
    "        amount = round(float(element.attrib[\"amount\"]),4)\n",
    "        \n",
    "        \n",
    "        try:\n",
    "            input_group = element.find(self.NAMESPACE + \"inputGroup\").text\n",
    "        except AttributeError:\n",
    "            input_group = None\n",
    "        try:    \n",
    "            output_group = element.find(self.NAMESPACE + \"outputGroup\").text\n",
    "        except AttributeError:\n",
    "            output_group = None\n",
    "            \n",
    "        return name,amount,unit_name,input_group,output_group   \n",
    "    \n",
    "    def addExchange(self,exchange_group,exchange_name,quantity,unit_name):\n",
    "        #self.mergeSameType(exchange_group,exchange_name,quantity,unit_name)\n",
    "        if not self.mergeSameType(exchange_group,exchange_name,quantity,unit_name) and quantity != 0.:\n",
    "            exchange_group[exchange_name] += round(float(quantity),4)\n",
    "        #exchange_group[exchange_name] += round(float(quantity),4)    \n",
    "        #if quantity != 0.: #ignore exchange if quantity = 0 after rounding\n",
    "         #   exchange_group[exchange_name] += float(quantity)\n",
    "            \n",
    "    \n",
    "    def technosphereFilter(self,element):\n",
    "        \"\"\"\n",
    "        input from techosphere\n",
    "        -inputGroup 5 in intermediateExchange\n",
    "        --> filter 5; filter according to largest amount (attrib amount)\n",
    "        \"\"\"\n",
    "        name, amount, unit_name,input_group, output_group = self.parseMetadata(element)\n",
    "        \n",
    "        if input_group == \"5\": #maybe more explicit check with group == 5\n",
    "            # merge and delete only if different types of inputs/outputs; otherwise add up via defaultdict \n",
    "            \n",
    "            #self.mergeSameType(self.TECHNOSPHERE[\"input\"],name,amount)\n",
    "            self.addExchange(self.TECHNOSPHERE[\"input\"],name,amount,unit_name)\n",
    "\n",
    "        #add reference product\n",
    "        if output_group == \"0\":\n",
    "            volume = round(float(element.attrib[\"productionVolumeAmount\"]),4)\n",
    "            self.REFERENCE_PRODUCT = {name: volume}\n",
    "            #self.TECHNOSPHERE[\"output\"][name] += float(volume)\n",
    "\n",
    "        elif output_group == \"2\":   #add byproducts\n",
    "            volume = round(float(element.attrib[\"productionVolumeAmount\"]),4)\n",
    "            #self.mergeSameType(self.TECHNOSPHERE[\"output\"],name,volume)\n",
    "            self.addExchange(self.TECHNOSPHERE[\"output\"],name,volume,unit_name)\n",
    "                \n",
    "            \n",
    "            \n",
    "    def environmentFilter(self, element):\n",
    "        \"\"\"\n",
    "        input from environment\n",
    "        -inputGroup 4 in elementaryExchange\n",
    "\n",
    "        emissions to environment\n",
    "        -outputGroup 4 in elementaryExchange\n",
    "        \"\"\"\n",
    "        name,amount,unit_name, input_group, output_group = self.parseMetadata(element)\n",
    "        \n",
    "        if input_group == \"4\": \n",
    "            # merge and delete only if different types of inputs/outputs; otherwise add up via defaultdict \n",
    "            #self.mergeSameType(self.ENVIRONMENT[\"input\"],name)\n",
    "            self.addExchange(self.ENVIRONMENT[\"input\"],name,amount,unit_name)\n",
    "\n",
    "        if output_group == \"4\":   \n",
    "            #self.mergeSameType(self.ENVIRONMENT[\"output\"],name)\n",
    "            self.addExchange(self.ENVIRONMENT[\"output\"],name,amount,unit_name)\n",
    "                    \n",
    "        \n",
    "    \n",
    "    def activityFilter(self,element):\n",
    "        \"\"\"\n",
    "        activityName\n",
    "        -directly from the activityName element\n",
    "        \"\"\"\n",
    "        self.ACTIVITY = \",\".join(element.text.split(\",\")[:2])\n",
    "                \n",
    "    \n",
    "    def geographyFilter(self,element):\n",
    "        \"\"\"\n",
    "        geography shortname\n",
    "        -child of the geography element (shortname; here text)\n",
    "        \"\"\"\n",
    "        self.GEOGRAPHY = element.find(self.NAMESPACE+\"shortname\").text\n",
    "        \n",
    "    def filterResults(self):\n",
    "        \"\"\"\n",
    "        filter exchange groups to include 5 elements max\n",
    "        \"\"\"\n",
    "        MAPPING = {\"TECHNOSPHERE_IN\" : self.TECHNOSPHERE[\"input\"],\n",
    "                   \"TECHNOSPHERE_OUT\" : self.TECHNOSPHERE[\"output\"],\n",
    "                   \"ENVIRONMENT_IN\" : self.ENVIRONMENT[\"input\"],\n",
    "                   \"ENVIRONMENT_OUT\" : self.ENVIRONMENT[\"output\"]}\n",
    "        \n",
    "        for key,exchange_group in MAPPING.iteritems():\n",
    "            \n",
    "        #for exchange_group in [self.TECHNOSPHERE[\"input\"],self.TECHNOSPHERE[\"output\"],\n",
    "                               #self.ENVIRONMENT[\"input\"],self.ENVIRONMENT[\"output\"]]:\n",
    "            sorted_group = sorted([(k,v) for k,v in exchange_group.iteritems()], key = lambda x: x[1])     \n",
    "            \n",
    "            \n",
    "            max_number = 4 if key == \"TECHNOSPHERE_OUT\" else 5   \n",
    "                \n",
    "            while len(exchange_group) > max_number:\n",
    "                to_remove = sorted_group.pop(0)[0] #take key of smallest quantity exchange\n",
    "                #if to_remove != self.REFERENCE_PRODUCT:\n",
    "                del exchange_group[to_remove]\n",
    "            \n",
    "\n",
    "    def process(self):\n",
    "        self.parseFile()  #extract all data\n",
    "        self.filterResults()\n",
    "        \n",
    "        \n",
    "        \n",
    "parser = parseXML(file_)\n",
    "parser.process()"
   ]
  },
  {
   "cell_type": "code",
   "execution_count": 961,
   "metadata": {
    "collapsed": false
   },
   "outputs": [
    {
     "data": {
      "text/plain": [
       "{'input': defaultdict(int,\n",
       "             {'electricity, medium voltage': 221.20000000000002,\n",
       "              'heat, district or industrial': 1114.0952,\n",
       "              'tap water': 287.0,\n",
       "              'urea formaldehyde resin': 46.6,\n",
       "              'wood chips, combined': 479.089}),\n",
       " 'output': defaultdict(int,\n",
       "             {'biowaste': 10036778.178,\n",
       "              'hazardous waste, for incineration': 8827307.5053,\n",
       "              'wastewater from medium density board production': 4523774.882,\n",
       "              'wood ash mixture, pure': 22285824.0998})}"
      ]
     },
     "execution_count": 961,
     "metadata": {},
     "output_type": "execute_result"
    }
   ],
   "source": [
    "parser.TECHNOSPHERE\n"
   ]
  },
  {
   "cell_type": "code",
   "execution_count": 924,
   "metadata": {
    "collapsed": false
   },
   "outputs": [
    {
     "data": {
      "text/plain": [
       "{'medium density fibreboard': 11114926.0}"
      ]
     },
     "execution_count": 924,
     "metadata": {},
     "output_type": "execute_result"
    }
   ],
   "source": [
    "parser.REFERENCE_PRODUCT"
   ]
  },
  {
   "cell_type": "code",
   "execution_count": 873,
   "metadata": {
    "collapsed": false
   },
   "outputs": [
    {
     "data": {
      "text/plain": [
       "{'input': defaultdict(int, {'Water, combined': 0.6103}),\n",
       " 'output': defaultdict(int,\n",
       "             {'Carbon dioxide, non-fossil': 429.6505,\n",
       "              'Carbon monoxide, non-fossil': 0.8425,\n",
       "              'Formaldehyde': 0.1385,\n",
       "              'NMVOC, non-methane volatile organic compounds': 0.3954,\n",
       "              'Nitrogen oxides': 0.5055})}"
      ]
     },
     "execution_count": 873,
     "metadata": {},
     "output_type": "execute_result"
    }
   ],
   "source": [
    "parser.ENVIRONMENT\n",
    "\n"
   ]
  },
  {
   "cell_type": "code",
   "execution_count": 784,
   "metadata": {
    "collapsed": false
   },
   "outputs": [
    {
     "ename": "TypeError",
     "evalue": "addExchange() takes exactly 4 arguments (5 given)",
     "output_type": "error",
     "traceback": [
      "\u001b[0;31m---------------------------------------------------------------------------\u001b[0m",
      "\u001b[0;31mTypeError\u001b[0m                                 Traceback (most recent call last)",
      "\u001b[0;32m<ipython-input-784-60f449f60dc2>\u001b[0m in \u001b[0;36m<module>\u001b[0;34m()\u001b[0m\n\u001b[1;32m    168\u001b[0m \u001b[0;34m\u001b[0m\u001b[0m\n\u001b[1;32m    169\u001b[0m \u001b[0mparser\u001b[0m \u001b[0;34m=\u001b[0m \u001b[0mparseXML\u001b[0m\u001b[0;34m(\u001b[0m\u001b[0mfile_\u001b[0m\u001b[0;34m)\u001b[0m\u001b[0;34m\u001b[0m\u001b[0m\n\u001b[0;32m--> 170\u001b[0;31m \u001b[0mparser\u001b[0m\u001b[0;34m.\u001b[0m\u001b[0mprocess\u001b[0m\u001b[0;34m(\u001b[0m\u001b[0;34m)\u001b[0m\u001b[0;34m\u001b[0m\u001b[0m\n\u001b[0m",
      "\u001b[0;32m<ipython-input-784-60f449f60dc2>\u001b[0m in \u001b[0;36mprocess\u001b[0;34m(self)\u001b[0m\n\u001b[1;32m    162\u001b[0m \u001b[0;34m\u001b[0m\u001b[0m\n\u001b[1;32m    163\u001b[0m     \u001b[0;32mdef\u001b[0m \u001b[0mprocess\u001b[0m\u001b[0;34m(\u001b[0m\u001b[0mself\u001b[0m\u001b[0;34m)\u001b[0m\u001b[0;34m:\u001b[0m\u001b[0;34m\u001b[0m\u001b[0m\n\u001b[0;32m--> 164\u001b[0;31m         \u001b[0mself\u001b[0m\u001b[0;34m.\u001b[0m\u001b[0mparseFile\u001b[0m\u001b[0;34m(\u001b[0m\u001b[0;34m)\u001b[0m  \u001b[0;31m#extract all data\u001b[0m\u001b[0;34m\u001b[0m\u001b[0m\n\u001b[0m\u001b[1;32m    165\u001b[0m         \u001b[0mself\u001b[0m\u001b[0;34m.\u001b[0m\u001b[0mfilterResults\u001b[0m\u001b[0;34m(\u001b[0m\u001b[0;34m)\u001b[0m\u001b[0;34m\u001b[0m\u001b[0m\n\u001b[1;32m    166\u001b[0m \u001b[0;34m\u001b[0m\u001b[0m\n",
      "\u001b[0;32m<ipython-input-784-60f449f60dc2>\u001b[0m in \u001b[0;36mparseFile\u001b[0;34m(self)\u001b[0m\n\u001b[1;32m     19\u001b[0m         \u001b[0mtree\u001b[0m \u001b[0;34m=\u001b[0m \u001b[0mET\u001b[0m\u001b[0;34m.\u001b[0m\u001b[0mparse\u001b[0m\u001b[0;34m(\u001b[0m\u001b[0mself\u001b[0m\u001b[0;34m.\u001b[0m\u001b[0mfile\u001b[0m\u001b[0;34m)\u001b[0m       \u001b[0;31m# build element tree\u001b[0m\u001b[0;34m\u001b[0m\u001b[0m\n\u001b[1;32m     20\u001b[0m         \u001b[0;32mfor\u001b[0m \u001b[0melement\u001b[0m \u001b[0;32min\u001b[0m \u001b[0mtree\u001b[0m\u001b[0;34m.\u001b[0m\u001b[0miter\u001b[0m\u001b[0;34m(\u001b[0m\u001b[0;34m)\u001b[0m\u001b[0;34m:\u001b[0m  \u001b[0;31m# iterate over the document\u001b[0m\u001b[0;34m\u001b[0m\u001b[0m\n\u001b[0;32m---> 21\u001b[0;31m             \u001b[0mself\u001b[0m\u001b[0;34m.\u001b[0m\u001b[0mapplyFilter\u001b[0m\u001b[0;34m(\u001b[0m\u001b[0melement\u001b[0m\u001b[0;34m)\u001b[0m\u001b[0;34m\u001b[0m\u001b[0m\n\u001b[0m\u001b[1;32m     22\u001b[0m \u001b[0;34m\u001b[0m\u001b[0m\n\u001b[1;32m     23\u001b[0m \u001b[0;34m\u001b[0m\u001b[0m\n",
      "\u001b[0;32m<ipython-input-784-60f449f60dc2>\u001b[0m in \u001b[0;36mapplyFilter\u001b[0;34m(self, element)\u001b[0m\n\u001b[1;32m     30\u001b[0m                   }\n\u001b[1;32m     31\u001b[0m         \u001b[0;32mtry\u001b[0m\u001b[0;34m:\u001b[0m\u001b[0;34m\u001b[0m\u001b[0m\n\u001b[0;32m---> 32\u001b[0;31m             \u001b[0mMAPPING\u001b[0m\u001b[0;34m[\u001b[0m\u001b[0melement\u001b[0m\u001b[0;34m.\u001b[0m\u001b[0mtag\u001b[0m\u001b[0;34m]\u001b[0m\u001b[0;34m(\u001b[0m\u001b[0melement\u001b[0m\u001b[0;34m)\u001b[0m\u001b[0;34m\u001b[0m\u001b[0m\n\u001b[0m\u001b[1;32m     33\u001b[0m         \u001b[0;32mexcept\u001b[0m \u001b[0mKeyError\u001b[0m\u001b[0;34m:\u001b[0m\u001b[0;34m\u001b[0m\u001b[0m\n\u001b[1;32m     34\u001b[0m             \u001b[0;32mpass\u001b[0m\u001b[0;34m\u001b[0m\u001b[0m\n",
      "\u001b[0;32m<ipython-input-784-60f449f60dc2>\u001b[0m in \u001b[0;36mtechnosphereFilter\u001b[0;34m(self, element)\u001b[0m\n\u001b[1;32m     94\u001b[0m \u001b[0;34m\u001b[0m\u001b[0m\n\u001b[1;32m     95\u001b[0m             \u001b[0;31m#self.mergeSameType(self.TECHNOSPHERE[\"input\"],name,amount)\u001b[0m\u001b[0;34m\u001b[0m\u001b[0;34m\u001b[0m\u001b[0m\n\u001b[0;32m---> 96\u001b[0;31m             \u001b[0mself\u001b[0m\u001b[0;34m.\u001b[0m\u001b[0maddExchange\u001b[0m\u001b[0;34m(\u001b[0m\u001b[0mself\u001b[0m\u001b[0;34m.\u001b[0m\u001b[0mTECHNOSPHERE\u001b[0m\u001b[0;34m[\u001b[0m\u001b[0;34m\"input\"\u001b[0m\u001b[0;34m]\u001b[0m\u001b[0;34m,\u001b[0m\u001b[0mname\u001b[0m\u001b[0;34m,\u001b[0m\u001b[0mamount\u001b[0m\u001b[0;34m,\u001b[0m\u001b[0munit_name\u001b[0m\u001b[0;34m)\u001b[0m\u001b[0;34m\u001b[0m\u001b[0m\n\u001b[0m\u001b[1;32m     97\u001b[0m \u001b[0;34m\u001b[0m\u001b[0m\n\u001b[1;32m     98\u001b[0m         \u001b[0;31m#add reference product\u001b[0m\u001b[0;34m\u001b[0m\u001b[0;34m\u001b[0m\u001b[0m\n",
      "\u001b[0;31mTypeError\u001b[0m: addExchange() takes exactly 4 arguments (5 given)"
     ]
    }
   ],
   "source": [
    "from collections import defaultdict\n",
    "\n",
    "class parseXML(object):\n",
    "    \n",
    "    def __init__(self, file_):\n",
    "        self.file = file_\n",
    "        self.NAMESPACE =  '{http://www.EcoInvent.org/EcoSpold02}'\n",
    "        self.TECHNOSPHERE = {\"input\" : defaultdict(int),\n",
    "                             \"output\" : defaultdict(int)\n",
    "                            }\n",
    "        self.ENVIRONMENT = {\"input\" : defaultdict(int),\n",
    "                            \"output\" : defaultdict(int)\n",
    "                           }\n",
    "        \n",
    "        self.UNITS = dict()\n",
    "        self.COMBINE = defaultdict(set)\n",
    "        \n",
    "    def parseFile(self):\n",
    "        tree = ET.parse(self.file)       # build element tree\n",
    "        for element in tree.iter():  # iterate over the document\n",
    "            self.applyFilter(element)\n",
    "            \n",
    "    \n",
    "    def applyFilter(self,element):\n",
    "        \n",
    "        MAPPING = {self.NAMESPACE + \"intermediateExchange\" : self.technosphereFilter,      #products, techosphere input\n",
    "                   self.NAMESPACE + \"elementaryExchange\" : self.environmentFilter,         #input environment, emission \n",
    "                   self.NAMESPACE + \"activityName\" : self.activityFilter,                  #name of activity\n",
    "                   self.NAMESPACE + \"geography\" : self.geographyFilter                     #location identifier\n",
    "                  }\n",
    "        try:\n",
    "            MAPPING[element.tag](element)\n",
    "        except KeyError:\n",
    "            pass\n",
    "               \n",
    "                \n",
    "    def mergeSameType(self,exchange_group,exchange_name,quantity):\n",
    "        \n",
    "        for k in exchange_group.keys():\n",
    "            \n",
    "            if exchange_name == k:\n",
    "                return \n",
    "            \n",
    "            if exchange_name.split(\",\")[0] in k:\n",
    "                #check 1: not the same type of exchange but overlapping parts of name\n",
    "                #--> e.g., \"urea formaldehyde resin\" vs. \"urea, as N\"\n",
    "                if len(exchange_name.split(\",\")) != len(k.split(\",\")):\n",
    "                    return \n",
    "                \n",
    "                if self.UNITS[exchange_name] == self.UNITS[k]:\n",
    "                    self.COMBINE[exchange_name.split(\",\")[0]].add(k)\n",
    "                    self.COMBINE[exchange_name.split(\",\")[0]].add(exchange_name)\n",
    "                    \n",
    "                \n",
    "\n",
    "                \n",
    "    def parseMetadata(self,element):  \n",
    "        name = \",\".join(element.find(self.NAMESPACE + \"name\").text.split(\",\")[:2]) # hierarchical order in name string; use name only\n",
    "        unit_name = element.find(self.NAMESPACE + \"unitName\").text\n",
    "        self.UNITS[name] = unit_name \n",
    "        amount = float(element.attrib[\"amount\"])\n",
    "        \n",
    "        \n",
    "        try:\n",
    "            input_group = element.find(self.NAMESPACE + \"inputGroup\").text\n",
    "        except AttributeError:\n",
    "            input_group = None\n",
    "        try:    \n",
    "            output_group = element.find(self.NAMESPACE + \"outputGroup\").text\n",
    "        except AttributeError:\n",
    "            output_group = None\n",
    "            \n",
    "        return name,amount,unit_name,input_group,output_group   \n",
    "    \n",
    "    def addExchange(self,exchange_group,exchange_name,quantity):\n",
    "        #self.mergeSameType(exchange_group,exchange_name,quantity,unit_name)\n",
    "        #if not self.mergeSameType(exchange_group,exchange_name,quantity,unit_name) and quantity != 0.:\n",
    "         #   exchange_group[exchange_name] += round(float(quantity),4)\n",
    "        #exchange_group[exchange_name] += round(float(quantity),4)    \n",
    "        if quantity != 0.: #ignore exchange if quantity = 0 after rounding\n",
    "            exchange_group[exchange_name] += float(quantity)\n",
    "            \n",
    "    \n",
    "    def technosphereFilter(self,element):\n",
    "        \"\"\"\n",
    "        input from techosphere\n",
    "        -inputGroup 5 in intermediateExchange\n",
    "        --> filter 5; filter according to largest amount (attrib amount)\n",
    "        \"\"\"\n",
    "        name, amount, unit_name,input_group, output_group = self.parseMetadata(element)\n",
    "        \n",
    "        if input_group == \"5\": #maybe more explicit check with group == 5\n",
    "            # merge and delete only if different types of inputs/outputs; otherwise add up via defaultdict \n",
    "            \n",
    "            #self.mergeSameType(self.TECHNOSPHERE[\"input\"],name,amount)\n",
    "            self.addExchange(self.TECHNOSPHERE[\"input\"],name,amount,unit_name)\n",
    "\n",
    "        #add reference product\n",
    "        if output_group == \"0\":\n",
    "            volume = round(float(element.attrib[\"productionVolumeAmount\"]),4)\n",
    "            self.REFERENCE_PRODUCT = name\n",
    "            self.TECHNOSPHERE[\"output\"][name] += float(volume)\n",
    "\n",
    "        elif output_group == \"2\":   #add byproducts\n",
    "            volume = round(float(element.attrib[\"productionVolumeAmount\"]),4)\n",
    "            self.mergeSameType(self.TECHNOSPHERE[\"output\"],name,volume)\n",
    "            self.addExchange(self.TECHNOSPHERE[\"output\"],name,volume)\n",
    "                \n",
    "            \n",
    "            \n",
    "    def environmentFilter(self, element):\n",
    "        \"\"\"\n",
    "        input from environment\n",
    "        -inputGroup 4 in elementaryExchange\n",
    "\n",
    "        emissions to environment\n",
    "        -outputGroup 4 in elementaryExchange\n",
    "        \"\"\"\n",
    "        name,amount,unit_name, input_group, output_group = self.parseMetadata(element)\n",
    "        \n",
    "        if input_group == \"4\": \n",
    "            # merge and delete only if different types of inputs/outputs; otherwise add up via defaultdict \n",
    "            self.mergeSameType(self.ENVIRONMENT[\"input\"],name)\n",
    "            self.addExchange(self.ENVIRONMENT[\"input\"],name,amount)\n",
    "\n",
    "        if output_group == \"4\":   \n",
    "            self.mergeSameType(self.ENVIRONMENT[\"output\"],name)\n",
    "            self.addExchange(self.ENVIRONMENT[\"output\"],name,amount)\n",
    "                    \n",
    "        \n",
    "    \n",
    "    def activityFilter(self,element):\n",
    "        \"\"\"\n",
    "        activityName\n",
    "        -directly from the activityName element\n",
    "        \"\"\"\n",
    "        self.ACTIVITY = \",\".join(element.text.split(\",\")[:2])\n",
    "                \n",
    "    \n",
    "    def geographyFilter(self,element):\n",
    "        \"\"\"\n",
    "        geography shortname\n",
    "        -child of the geography element (shortname; here text)\n",
    "        \"\"\"\n",
    "        self.GEOGRAPHY = element.find(self.NAMESPACE+\"shortname\").text\n",
    "        \n",
    "    def filterResults(self):\n",
    "        \"\"\"\n",
    "        filter exchange groups to include 5 elements max\n",
    "        \"\"\"\n",
    "        \n",
    "        for exchange_group in [self.TECHNOSPHERE[\"input\"],self.TECHNOSPHERE[\"output\"],\n",
    "                               self.ENVIRONMENT[\"input\"],self.ENVIRONMENT[\"output\"]]:\n",
    "            \n",
    "            sorted_group = sorted([(key,val) for key,val in exchange_group.iteritems()], key = lambda x: x[1]) \n",
    "            \n",
    "            while len(exchange_group) > 5:\n",
    "                to_remove = sorted_group.pop(0)[0] #take key of smallest quantity exchange\n",
    "                if to_remove != self.REFERENCE_PRODUCT:\n",
    "                    del exchange_group[to_remove]\n",
    "            \n",
    "\n",
    "    def process(self):\n",
    "        self.parseFile()  #extract all data\n",
    "        self.filterResults()\n",
    "        \n",
    "        \n",
    "        \n",
    "parser = parseXML(file_)\n",
    "parser.process()"
   ]
  },
  {
   "cell_type": "code",
   "execution_count": 786,
   "metadata": {
    "collapsed": false
   },
   "outputs": [
    {
     "data": {
      "text/plain": [
       "defaultdict(set,\n",
       "            {'Benzene': {'Benzene, ethyl-', 'Benzene, hexachloro-'},\n",
       "             'Chromium': {'Chromium', 'Chromium VI'},\n",
       "             'Particulates': {'Particulates, < 2.5 um',\n",
       "              'Particulates, > 10 um'},\n",
       "             'Water': {'Water, combined',\n",
       "              'Water, cooling',\n",
       "              'Water, river',\n",
       "              'Water, well'},\n",
       "             'pulpwood': {'pulpwood, hardwood', 'pulpwood, softwood'},\n",
       "             'wood chips': {'wood chips, combined',\n",
       "              'wood chips, dry',\n",
       "              'wood chips, from post-consumer wood',\n",
       "              'wood chips, wet'}})"
      ]
     },
     "execution_count": 786,
     "metadata": {},
     "output_type": "execute_result"
    }
   ],
   "source": [
    "parser.COMBINE"
   ]
  },
  {
   "cell_type": "code",
   "execution_count": 787,
   "metadata": {
    "collapsed": false
   },
   "outputs": [
    {
     "data": {
      "text/plain": [
       "{'input': defaultdict(int, {'Water, combined': 0.6103}),\n",
       " 'output': defaultdict(int,\n",
       "             {'Carbon dioxide, non-fossil': 429.6505,\n",
       "              'Carbon monoxide, non-fossil': 0.8425,\n",
       "              'Formaldehyde': 0.1385,\n",
       "              'NMVOC, non-methane volatile organic compounds': 0.3954,\n",
       "              'Nitrogen oxides': 0.5055})}"
      ]
     },
     "execution_count": 787,
     "metadata": {},
     "output_type": "execute_result"
    }
   ],
   "source": [
    "parser.ENVIRONMENT"
   ]
  },
  {
   "cell_type": "code",
   "execution_count": 788,
   "metadata": {
    "collapsed": false
   },
   "outputs": [
    {
     "data": {
      "text/plain": [
       "{'input': defaultdict(int, {'Water, combined': 0.6103}),\n",
       " 'output': defaultdict(int,\n",
       "             {'Carbon dioxide, non-fossil': 429.6505,\n",
       "              'Carbon monoxide, non-fossil': 0.8425,\n",
       "              'Formaldehyde': 0.1385,\n",
       "              'NMVOC, non-methane volatile organic compounds': 0.3954,\n",
       "              'Nitrogen oxides': 0.5055})}"
      ]
     },
     "execution_count": 788,
     "metadata": {},
     "output_type": "execute_result"
    }
   ],
   "source": [
    "parser.ENVIRONMENT"
   ]
  },
  {
   "cell_type": "code",
   "execution_count": 789,
   "metadata": {
    "collapsed": false
   },
   "outputs": [
    {
     "data": {
      "text/plain": [
       "{'input': defaultdict(int,\n",
       "             {'electricity, medium voltage': 221.20000000000002,\n",
       "              'heat, district or industrial': 1114.0952,\n",
       "              'tap water': 287.0,\n",
       "              'urea formaldehyde resin': 46.6,\n",
       "              'wood chips, combined': 479.089}),\n",
       " 'output': defaultdict(int,\n",
       "             {'biowaste': 10036778.178,\n",
       "              'hazardous waste, for incineration': 8827307.5053,\n",
       "              'medium density fibreboard': 11114926.0,\n",
       "              'wastewater from medium density board production': 4523774.882,\n",
       "              'wood ash mixture, pure': 22285824.0998})}"
      ]
     },
     "execution_count": 789,
     "metadata": {},
     "output_type": "execute_result"
    }
   ],
   "source": [
    "parser.TECHNOSPHERE"
   ]
  },
  {
   "cell_type": "code",
   "execution_count": 690,
   "metadata": {
    "collapsed": false
   },
   "outputs": [
    {
     "data": {
      "text/plain": [
       "{'input': defaultdict(int,\n",
       "             {'electricity, medium voltage': 221.20000000000002,\n",
       "              'heat, district or industrial': 1114.0952,\n",
       "              'tap water': 287.0,\n",
       "              'urea formaldehyde resin': 46.6,\n",
       "              'wood chips,combined': 367.51}),\n",
       " 'output': defaultdict(int,\n",
       "             {'biowaste': 10036778.178,\n",
       "              'hazardous waste, for incineration': 8827307.5053,\n",
       "              'medium density fibreboard': 11114926.0,\n",
       "              'wastewater from medium density board production': 4523774.882,\n",
       "              'wood ash mixture, pure': 22285824.0998})}"
      ]
     },
     "execution_count": 690,
     "metadata": {},
     "output_type": "execute_result"
    }
   ],
   "source": [
    "parser.TECHNOSPHERE"
   ]
  },
  {
   "cell_type": "code",
   "execution_count": 791,
   "metadata": {
    "collapsed": false
   },
   "outputs": [
    {
     "data": {
      "text/plain": [
       "defaultdict(int,\n",
       "            {'Carbon dioxide, non-fossil': 429.6505,\n",
       "             'Carbon monoxide, non-fossil': 0.8425,\n",
       "             'Formaldehyde': 0.1385,\n",
       "             'NMVOC, non-methane volatile organic compounds': 0.3954,\n",
       "             'Nitrogen oxides': 0.5055})"
      ]
     },
     "execution_count": 791,
     "metadata": {},
     "output_type": "execute_result"
    }
   ],
   "source": [
    "parser.ENVIRONMENT[\"output\"]"
   ]
  },
  {
   "cell_type": "code",
   "execution_count": 790,
   "metadata": {
    "collapsed": false
   },
   "outputs": [
    {
     "data": {
      "text/plain": [
       "'medium density fibreboard'"
      ]
     },
     "execution_count": 790,
     "metadata": {},
     "output_type": "execute_result"
    }
   ],
   "source": [
    "parser.REFERENCE_PRODUCT"
   ]
  },
  {
   "cell_type": "code",
   "execution_count": 628,
   "metadata": {
    "collapsed": false
   },
   "outputs": [
    {
     "data": {
      "text/plain": [
       "'medium density fibre board production, uncoated'"
      ]
     },
     "execution_count": 628,
     "metadata": {},
     "output_type": "execute_result"
    }
   ],
   "source": [
    "parser.ACTIVITY"
   ]
  },
  {
   "cell_type": "code",
   "execution_count": 629,
   "metadata": {
    "collapsed": false
   },
   "outputs": [
    {
     "data": {
      "text/plain": [
       "'RER'"
      ]
     },
     "execution_count": 629,
     "metadata": {},
     "output_type": "execute_result"
    }
   ],
   "source": [
    "parser.GEOGRAPHY"
   ]
  },
  {
   "cell_type": "code",
   "execution_count": 630,
   "metadata": {
    "collapsed": false
   },
   "outputs": [
    {
     "data": {
      "text/plain": [
       "'1cf3e001-005f-4f4e-8ee7-57fde7055b80.spold'"
      ]
     },
     "execution_count": 630,
     "metadata": {},
     "output_type": "execute_result"
    }
   ],
   "source": [
    "file_"
   ]
  },
  {
   "cell_type": "code",
   "execution_count": 388,
   "metadata": {
    "collapsed": true
   },
   "outputs": [],
   "source": [
    "import matplotlib.pyplot as plt\n",
    "import matplotlib.patches as patches"
   ]
  },
  {
   "cell_type": "code",
   "execution_count": 964,
   "metadata": {
    "collapsed": false
   },
   "outputs": [
    {
     "data": {
      "text/plain": [
       "{'input': defaultdict(int, {'Water, combined': 0.6103, 'arrow': 0, 'text': 0}),\n",
       " 'output': defaultdict(int,\n",
       "             {'Carbon dioxide, non-fossil': 429.6505,\n",
       "              'Carbon monoxide, non-fossil': 0.8425,\n",
       "              'Formaldehyde': 0.1385,\n",
       "              'NMVOC, non-methane volatile organic compounds': 0.3954,\n",
       "              'Nitrogen oxides': 0.5055})}"
      ]
     },
     "execution_count": 964,
     "metadata": {},
     "output_type": "execute_result"
    }
   ],
   "source": [
    "parser.ENVIRONMENT"
   ]
  },
  {
   "cell_type": "code",
   "execution_count": 423,
   "metadata": {
    "collapsed": false
   },
   "outputs": [
    {
     "data": {
      "text/plain": [
       "'0.050139 kg of hydrogen, liquid\\n110.0 kWh of electricity, high voltage\\n185.0 MJ of heat, district or industrial\\n1.6017 kg of hydrochloric acid, without water\\n1.13 kg of silicon, metallurgical grade'"
      ]
     },
     "execution_count": 423,
     "metadata": {},
     "output_type": "execute_result"
    }
   ],
   "source": [
    "def formatResults(exchange_group,exchange_units):\n",
    "    return \"\\n\".join([\"{0} {1} of {2}\".format(val,exchange_units[key],key) for key,val in exchange_group.iteritems()])\n",
    "    #for key,val in exchange_group.iteritems():\n",
    "        #exchange_group[key] = \"{0} {1} of\".format(val,exchange_units[key])\n",
    "        \n",
    "formatResults(parser.TECHNOSPHERE[\"input\"], parser.UNITS)        "
   ]
  },
  {
   "cell_type": "code",
   "execution_count": 1304,
   "metadata": {
    "collapsed": false
   },
   "outputs": [],
   "source": [
    "file_ = [f for f in os.listdir(os.getcwd()) if os.path.isfile(f)][1]\n",
    "parser = parseXML(file_)\n",
    "parser.process()"
   ]
  },
  {
   "cell_type": "code",
   "execution_count": 1296,
   "metadata": {
    "collapsed": false
   },
   "outputs": [
    {
     "data": {
      "text/plain": [
       "'5a4129c9-1ae7-4e8d-a7c2-1016a5814161.spold'"
      ]
     },
     "execution_count": 1296,
     "metadata": {},
     "output_type": "execute_result"
    }
   ],
   "source": [
    "file_"
   ]
  },
  {
   "cell_type": "code",
   "execution_count": 1297,
   "metadata": {
    "collapsed": false
   },
   "outputs": [
    {
     "data": {
      "text/plain": [
       "'acrylic varnish production, product in 87.5% solution state'"
      ]
     },
     "execution_count": 1297,
     "metadata": {},
     "output_type": "execute_result"
    }
   ],
   "source": [
    "parser.ACTIVITY"
   ]
  },
  {
   "cell_type": "code",
   "execution_count": 1307,
   "metadata": {
    "collapsed": false
   },
   "outputs": [
    {
     "data": {
      "image/png": "[encoded data removed]",
      "text/plain": [
       "<matplotlib.figure.Figure at 0x14038dd50>"
      ]
     },
     "metadata": {},
     "output_type": "display_data"
    },
    {
     "data": {
      "text/plain": [
       "<matplotlib.figure.Figure at 0x1400c3590>"
      ]
     },
     "metadata": {},
     "output_type": "display_data"
    }
   ],
   "source": [
    "from matplotlib.patches import BoxStyle\n",
    "\n",
    "class plotting(object):\n",
    "             \n",
    "    \n",
    "    def __init__(self,parsed_file):\n",
    "        self.parser = parser\n",
    "        self.UNITS = self.parser.UNITS\n",
    "        \n",
    "        self.MAPPING = { \"TECHOSPHERE_IN\": {\"type\":self.parser.TECHNOSPHERE[\"input\"],\"text\" : [0.05, 0.55], \n",
    "                                            \"arrow\":[0.3, 0.55, 0.05, 0], \"align\":\"top\"},\n",
    "                         \"TECHOSPHERE_OUT\": {\"type\":self.parser.TECHNOSPHERE[\"output\"],\"text\":[0.75, 0.5], \n",
    "                                                        \"arrow\":[0.7, 0.52, 0.03, -0.02],\"align\":\"top\"},\n",
    "                         \"ENVIRONMENT_IN\": {\"type\":self.parser.ENVIRONMENT[\"input\"],\"text\":[0.4, 0.37], \n",
    "                                                       \"arrow\":[0.45, 0.4, 0., 0.05],\"align\":\"top\"},\n",
    "                         \"ENVIRONMENT_OUT\" : {\"type\":self.parser.ENVIRONMENT[\"output\"],\"text\":[0.4, 0.72],\n",
    "                                                        \"arrow\":[0.45, 0.64, 0., 0.05],\"align\":\"bottom\"},\n",
    "                         \"REFERENCE\" : {\"type\":self.parser.REFERENCE_PRODUCT,\"text\" : [0.75, 0.63], \n",
    "                                             \"arrow\" : [0.7, 0.58, 0.03, 0.02],\"align\":\"top\"}}\n",
    "        \n",
    "    \n",
    "    \n",
    "    def plotResults(self):\n",
    "        fig,ax,box = self.canvas()\n",
    " \n",
    "        text_ACTIVITY = \"ACTIVITY: \"+self.formatText(self.parser.ACTIVITY)+\"\\n\"+\"GEOGRAPHY: \"+self.parser.GEOGRAPHY \n",
    "        textbox=ax.text(0.4, 0.55, text_ACTIVITY,  fontsize=22, color=\"white\", verticalalignment='center',bbox=box)\n",
    "        box_bounds = self.transform(textbox,ax) #x0,y0; x1,y1\n",
    "        \n",
    "        self.MAPPING[\"TECHOSPHERE_OUT\"][\"arrow\"][0] = (box_bounds[1][0]+0.02)\n",
    "        self.MAPPING[\"REFERENCE\"][\"arrow\"][0] = (box_bounds[1][0]+0.02)\n",
    "        self.MAPPING[\"TECHOSPHERE_OUT\"][\"text\"][0] = (box_bounds[1][0]+0.08)\n",
    "        self.MAPPING[\"REFERENCE\"][\"text\"][0] = (box_bounds[1][0]+0.08)\n",
    "        \n",
    "        for key,setting in self.MAPPING.iteritems():\n",
    "            exchange_group = setting[\"type\"]\n",
    "            \n",
    "            if  exchange_group != {}:\n",
    "                text = self.formatText(exchange_group)\n",
    "                text_coord, arrow_coord = self.getCoordinates(setting)\n",
    "                \n",
    "                ax.text(text_coord[0],text_coord[1], text, fontsize=22, verticalalignment=setting[\"align\"])\n",
    "                ax.arrow(arrow_coord[0],arrow_coord[1],arrow_coord[2],arrow_coord[3], \n",
    "                         head_width=0.02, head_length=0.01, fc='k', ec='k') \n",
    "        \n",
    "        fig.savefig(os.path.join(os.getcwd(),\"test_fig.png\"))\n",
    "                \n",
    "                \n",
    "        \n",
    "    def formatText(self,exchange_group):\n",
    "        text = []\n",
    "        try:\n",
    "            for exchange,val in exchange_group.iteritems():\n",
    "                if len(exchange.split()) >= 4:\n",
    "                    processed = \"\\n\".join([\" \".join(exchange.split()[:2]),\" \".join(exchange.split()[2:])])\n",
    "                    text.append(\"- {0} {1} of {2}\".format(val,self.UNITS[exchange],processed))\n",
    "                else:    \n",
    "                    text.append(\"- {0} {1} of {2}\".format(val,self.UNITS[exchange],exchange))\n",
    "        except AttributeError:\n",
    "                if len(exchange_group) >= 35:\n",
    "                    processed = \",\\n\".join([exchange_group.split(\",\")[0],exchange_group.split(\",\")[1]])\n",
    "                    text.append(processed)\n",
    "                else:\n",
    "                    text.append(exchange_group)\n",
    "        \n",
    "        return \"\\n\".join(text)\n",
    "                \n",
    "        \n",
    "       \n",
    "    def getCoordinates(self,setting):\n",
    "        \n",
    "        text_coord = setting[\"text\"]\n",
    "        arrow_coord = setting[\"arrow\"]\n",
    "        return text_coord, arrow_coord\n",
    "        \n",
    "    def transform(self, text_object, axes_object):\n",
    "        fig = plt.figure(figsize=(38, 15))\n",
    "        inv = axes_object.transData.inverted()\n",
    "        renderer = fig.canvas.get_renderer()\n",
    "        bounding_box = text_object.get_window_extent(renderer=renderer)\n",
    "        return inv.transform(bounding_box._points)\n",
    "        \n",
    "\n",
    "    def canvas(self):\n",
    "        %matplotlib inline\n",
    "        fig, ax = plt.subplots(figsize=(38, 15))\n",
    "        plt.axis('off')\n",
    "        box = dict(boxstyle='round', facecolor='blue', alpha=0.8,pad=1)\n",
    "        return fig,ax,box\n",
    "    \n",
    "plotter = plotting(parser)\n",
    "plotter.plotResults()    "
   ]
  },
  {
   "cell_type": "code",
   "execution_count": 1294,
   "metadata": {
    "collapsed": false
   },
   "outputs": [
    {
     "data": {
      "text/plain": [
       "'77a16b81-395c-4ffc-bd0b-a9cc07a008a8.spold'"
      ]
     },
     "execution_count": 1294,
     "metadata": {},
     "output_type": "execute_result"
    }
   ],
   "source": [
    "file_"
   ]
  },
  {
   "cell_type": "code",
   "execution_count": 921,
   "metadata": {
    "collapsed": false
   },
   "outputs": [
    {
     "data": {
      "text/plain": [
       "{'medium density fibreboard': 11114926.0}"
      ]
     },
     "execution_count": 921,
     "metadata": {},
     "output_type": "execute_result"
    }
   ],
   "source": [
    "parser.REFERENCE_PRODUCT"
   ]
  },
  {
   "cell_type": "code",
   "execution_count": 920,
   "metadata": {
    "collapsed": false
   },
   "outputs": [
    {
     "data": {
      "text/plain": [
       "defaultdict(int,\n",
       "            {'biowaste': 10036778.178,\n",
       "             'hazardous waste, for incineration': 8827307.5053,\n",
       "             'medium density fibreboard': 0,\n",
       "             'wastewater from medium density board production': 4523774.882,\n",
       "             'wood ash mixture, pure': 22285824.0998})"
      ]
     },
     "execution_count": 920,
     "metadata": {},
     "output_type": "execute_result"
    }
   ],
   "source": [
    "parser.TECHNOSPHERE[\"output\"]"
   ]
  },
  {
   "cell_type": "code",
   "execution_count": 928,
   "metadata": {
    "collapsed": false
   },
   "outputs": [
    {
     "data": {
      "text/plain": [
       "{'medium density fibreboard': 11114926.0}"
      ]
     },
     "execution_count": 928,
     "metadata": {},
     "output_type": "execute_result"
    }
   ],
   "source": [
    "parser.REFERENCE_PRODUCT"
   ]
  },
  {
   "cell_type": "code",
   "execution_count": 1148,
   "metadata": {
    "collapsed": false
   },
   "outputs": [
    {
     "data": {
      "text/plain": [
       "'acrylic varnish production, product in 87.5% solution state'"
      ]
     },
     "execution_count": 1148,
     "metadata": {},
     "output_type": "execute_result"
    }
   ],
   "source": [
    "parser.ACTIVITY"
   ]
  },
  {
   "cell_type": "code",
   "execution_count": 1227,
   "metadata": {
    "collapsed": false
   },
   "outputs": [
    {
     "ename": "TypeError",
     "evalue": "'Figure' object is not iterable",
     "output_type": "error",
     "traceback": [
      "\u001b[0;31m---------------------------------------------------------------------------\u001b[0m",
      "\u001b[0;31mTypeError\u001b[0m                                 Traceback (most recent call last)",
      "\u001b[0;32m<ipython-input-1227-c92d9fa73c63>\u001b[0m in \u001b[0;36m<module>\u001b[0;34m()\u001b[0m\n\u001b[1;32m     26\u001b[0m \u001b[0;34m\u001b[0m\u001b[0m\n\u001b[1;32m     27\u001b[0m \u001b[0mget_ipython\u001b[0m\u001b[0;34m(\u001b[0m\u001b[0;34m)\u001b[0m\u001b[0;34m.\u001b[0m\u001b[0mmagic\u001b[0m\u001b[0;34m(\u001b[0m\u001b[0;34mu'matplotlib inline'\u001b[0m\u001b[0;34m)\u001b[0m\u001b[0;34m\u001b[0m\u001b[0m\n\u001b[0;32m---> 28\u001b[0;31m \u001b[0mfig\u001b[0m\u001b[0;34m,\u001b[0m \u001b[0max\u001b[0m \u001b[0;34m=\u001b[0m \u001b[0mplt\u001b[0m\u001b[0;34m.\u001b[0m\u001b[0mfigure\u001b[0m\u001b[0;34m(\u001b[0m\u001b[0mfigsize\u001b[0m\u001b[0;34m=\u001b[0m\u001b[0;34m(\u001b[0m\u001b[0;36m38\u001b[0m\u001b[0;34m,\u001b[0m \u001b[0;36m15\u001b[0m\u001b[0;34m)\u001b[0m\u001b[0;34m)\u001b[0m\u001b[0;34m\u001b[0m\u001b[0m\n\u001b[0m\u001b[1;32m     29\u001b[0m \u001b[0;31m#plt.axis('off')\u001b[0m\u001b[0;34m\u001b[0m\u001b[0;34m\u001b[0m\u001b[0m\n\u001b[1;32m     30\u001b[0m \u001b[0;34m\u001b[0m\u001b[0m\n",
      "\u001b[0;31mTypeError\u001b[0m: 'Figure' object is not iterable"
     ]
    },
    {
     "data": {
      "text/plain": [
       "<matplotlib.figure.Figure at 0x143861b50>"
      ]
     },
     "metadata": {},
     "output_type": "display_data"
    }
   ],
   "source": [
    "def formatResults(exchange_group,exchange_units,reference_product,reference=False):\n",
    "    if reference:\n",
    "        #print exchange_group[reference_product]\n",
    "        return \"- {0} {1} of {2}\".format(exchange_group[reference_product],exchange_units[reference_product],reference_product)\n",
    "    \n",
    "    return \"\\n\".join([\"{0} {1} of {2}\".format(val,exchange_units[key],key) for key,val in exchange_group.iteritems()\n",
    "                                                                            if key != reference_product])\n",
    "    \n",
    "    text = []\n",
    "    for key,val in exchange_group.iteritems():\n",
    "        \n",
    "        if key != reference_product:\n",
    "            if len(key.split()) >= 4:\n",
    "                #split exchange description\n",
    "                description = \"\\n\".join([\" \".join(key.split()[:2]),\" \".join(key.split()[2:])])\n",
    "                text.append(\"- {0} {1} of {2}\".format(val,exchange_units[key],description))\n",
    "                #text.append(\"\\n\".join([\" \".join(key.split()[:2]),\" \".join(key.split()[2:])]))\n",
    "\n",
    "            else:\n",
    "                text.append(\"- {0} {1} of {2}\".format(val,exchange_units[key],key))\n",
    "     \n",
    "    return \"\\n\".join(text)\n",
    "    \n",
    "    #return \"\\n\".join([\"{0} {1} of {2}\".format(val,exchange_units[key],key) for key,val in exchange_group.iteritems()\n",
    "                                                                            #if key != reference_product])\n",
    "\n",
    "%matplotlib inline\n",
    "fig, ax = plt.subplots(figsize=(38, 15))\n",
    "#plt.axis('off')\n",
    "\n",
    "ref = parser.REFERENCE_PRODUCT.keys()[0]\n",
    "text_ACTIVITY = \"ACTIVITY: \"+parser.ACTIVITY+\"\\n\"+\"GEOGRAPHY: \"+parser.GEOGRAPHY\n",
    "\n",
    "text_TECHOSPHERE_IN = formatResults(parser.TECHNOSPHERE[\"input\"], parser.UNITS,ref) \n",
    "text_TECHOSPHERE_OUT = formatResults(parser.TECHNOSPHERE[\"output\"], parser.UNITS,ref)\n",
    "text_ENVIRONMENT_IN = formatResults(parser.ENVIRONMENT[\"input\"], parser.UNITS,ref)\n",
    "text_ENVIRONMENT_OUT = formatResults(parser.ENVIRONMENT[\"output\"], parser.UNITS,ref)\n",
    "text_REFERENCE = formatResults(parser.REFERENCE_PRODUCT, parser.UNITS,ref,reference=True)\n",
    "\n",
    "\n",
    "props = dict(boxstyle='round', facecolor='blue', alpha=0.8)\n",
    "\n",
    "# place a text box in upper left in axes coords\n",
    "ax.text(0.4, 0.55, text_ACTIVITY,  fontsize=20, color=\"white\", verticalalignment='center',\n",
    "        bbox=props)\n",
    "\n",
    "ax.text(0.05, 0.55, text_TECHOSPHERE_IN,  fontsize=18, verticalalignment='top')\n",
    "ax.text(0.75, 0.50, text_TECHOSPHERE_OUT,  fontsize=18, verticalalignment='top')\n",
    "ax.text(0.75, 0.63, text_REFERENCE,  fontsize=18, verticalalignment='top')\n",
    "ax.text(0.4, 0.4, text_ENVIRONMENT_IN,  fontsize=18,verticalalignment='top')\n",
    "ax.text(0.4, 0.85, text_ENVIRONMENT_OUT,  fontsize=18,verticalalignment='top')\n",
    "\n",
    "ax.arrow(0.3, 0.55, 0.05, 0., head_width=0.02, head_length=0.01, fc='k', ec='k') #arrow techno in\n",
    "ax.arrow(0.7, 0.52, 0.03, -0.02, head_width=0.02, head_length=0.02, fc='k', ec='k') #arrow techno byproduct\n",
    "ax.arrow(0.7, 0.58, 0.03, 0.02, head_width=0.02, head_length=0.02, fc='k', ec='k') #arrow techno refeence\n",
    "ax.arrow(0.5, 0.62, 0., 0.05, head_width=0.02, head_length=0.01, fc='k', ec='k') #environment out\n",
    "ax.arrow(0.5, 0.4, 0., 0.05, head_width=0.02, head_length=0.01, fc='k', ec='k') #environment in\n",
    "\n",
    "\n",
    "\n",
    "\n",
    "#fig.savefig(os.path.join(os.getcwd(),\"test_fig.png\"))\n"
   ]
  },
  {
   "cell_type": "code",
   "execution_count": 1208,
   "metadata": {
    "collapsed": false
   },
   "outputs": [
    {
     "data": {
      "text/plain": [
       "-0.29999999999999999"
      ]
     },
     "execution_count": 1208,
     "metadata": {},
     "output_type": "execute_result"
    }
   ],
   "source": [
    "textbox = ax.text(0.4, 0.55, \"test fdhfhdfhdfghfrghfrgh\",  fontsize=20, color=\"white\", verticalalignment='center',\n",
    "        bbox=props)\n",
    "textbox.get_bbox_patch().get_extents().y0\n"
   ]
  },
  {
   "cell_type": "code",
   "execution_count": 1254,
   "metadata": {
    "collapsed": false
   },
   "outputs": [
    {
     "data": {
      "text/plain": [
       "0.50000000000000011"
      ]
     },
     "execution_count": 1254,
     "metadata": {},
     "output_type": "execute_result"
    }
   ],
   "source": [
    "inv = ax.transData.inverted()\n",
    "x=inv.transform(bb._points)\n",
    "\n",
    "x[0][0]"
   ]
  },
  {
   "cell_type": "code",
   "execution_count": 1248,
   "metadata": {
    "collapsed": false
   },
   "outputs": [
    {
     "data": {
      "text/plain": [
       "['INVALID',\n",
       " 'INVALID_AFFINE',\n",
       " 'INVALID_NON_AFFINE',\n",
       " '__array__',\n",
       " '__class__',\n",
       " '__copy__',\n",
       " '__deepcopy__',\n",
       " '__delattr__',\n",
       " '__dict__',\n",
       " '__doc__',\n",
       " '__format__',\n",
       " '__getattribute__',\n",
       " '__getstate__',\n",
       " '__hash__',\n",
       " '__init__',\n",
       " '__module__',\n",
       " '__new__',\n",
       " '__reduce__',\n",
       " '__reduce_ex__',\n",
       " '__repr__',\n",
       " '__setattr__',\n",
       " '__setstate__',\n",
       " '__sizeof__',\n",
       " '__str__',\n",
       " '__subclasshook__',\n",
       " '__weakref__',\n",
       " '_get_bounds',\n",
       " '_get_extents',\n",
       " '_get_height',\n",
       " '_get_intervalx',\n",
       " '_get_intervaly',\n",
       " '_get_max',\n",
       " '_get_min',\n",
       " '_get_minpos',\n",
       " '_get_minposx',\n",
       " '_get_minposy',\n",
       " '_get_p0',\n",
       " '_get_p1',\n",
       " '_get_size',\n",
       " '_get_width',\n",
       " '_get_x0',\n",
       " '_get_x1',\n",
       " '_get_xmax',\n",
       " '_get_xmin',\n",
       " '_get_y0',\n",
       " '_get_y1',\n",
       " '_get_ymax',\n",
       " '_get_ymin',\n",
       " '_gid',\n",
       " '_ignore',\n",
       " '_invalid',\n",
       " '_invalidate_internal',\n",
       " '_minpos',\n",
       " '_parents',\n",
       " '_points',\n",
       " '_points_orig',\n",
       " '_set_bounds',\n",
       " '_set_intervalx',\n",
       " '_set_intervaly',\n",
       " '_set_p0',\n",
       " '_set_p1',\n",
       " '_set_x0',\n",
       " '_set_x1',\n",
       " '_set_y0',\n",
       " '_set_y1',\n",
       " '_shorthand_name',\n",
       " 'anchored',\n",
       " 'bounds',\n",
       " 'coefs',\n",
       " 'contains',\n",
       " 'containsx',\n",
       " 'containsy',\n",
       " 'corners',\n",
       " 'count_contains',\n",
       " 'count_overlaps',\n",
       " 'expanded',\n",
       " 'extents',\n",
       " 'from_bounds',\n",
       " 'from_extents',\n",
       " 'frozen',\n",
       " 'fully_contains',\n",
       " 'fully_containsx',\n",
       " 'fully_containsy',\n",
       " 'fully_overlaps',\n",
       " 'get_points',\n",
       " 'height',\n",
       " 'ignore',\n",
       " 'intersection',\n",
       " 'intervalx',\n",
       " 'intervaly',\n",
       " 'invalidate',\n",
       " 'inverse_transformed',\n",
       " 'is_affine',\n",
       " 'is_bbox',\n",
       " 'is_unit',\n",
       " 'max',\n",
       " 'min',\n",
       " 'minpos',\n",
       " 'minposx',\n",
       " 'minposy',\n",
       " 'mutated',\n",
       " 'mutatedx',\n",
       " 'mutatedy',\n",
       " 'null',\n",
       " 'overlaps',\n",
       " 'p0',\n",
       " 'p1',\n",
       " 'padded',\n",
       " 'pass_through',\n",
       " 'rotated',\n",
       " 'set',\n",
       " 'set_children',\n",
       " 'set_points',\n",
       " 'shrunk',\n",
       " 'shrunk_to_aspect',\n",
       " 'size',\n",
       " 'splitx',\n",
       " 'splity',\n",
       " 'transformed',\n",
       " 'translated',\n",
       " 'union',\n",
       " 'unit',\n",
       " 'update_from_data',\n",
       " 'update_from_data_xy',\n",
       " 'update_from_path',\n",
       " 'width',\n",
       " 'x0',\n",
       " 'x1',\n",
       " 'xmax',\n",
       " 'xmin',\n",
       " 'y0',\n",
       " 'y1',\n",
       " 'ymax',\n",
       " 'ymin']"
      ]
     },
     "execution_count": 1248,
     "metadata": {},
     "output_type": "execute_result"
    },
    {
     "data": {
      "image/png": "[encoded data removed]",
      "text/plain": [
       "<matplotlib.figure.Figure at 0x142494210>"
      ]
     },
     "metadata": {},
     "output_type": "display_data"
    }
   ],
   "source": [
    "f = plt.figure(figsize=(38, 15))\n",
    "#fig, ax = plt.subplots(figsize=(38, 15))\n",
    "\n",
    "r = f.canvas.get_renderer()\n",
    "t = plt.text(0.5, 0.5, 'testfhfhfhfhfhgfrgfgffrgfr',bbox=props,fontsize=20)\n",
    "\n",
    "bb = t.get_window_extent(renderer=r)\n",
    "#bb=t.get_bbox_patch().get_extents()\n",
    "width = bb.x1\n",
    "dir(bb)"
   ]
  },
  {
   "cell_type": "code",
   "execution_count": 1249,
   "metadata": {
    "collapsed": false
   },
   "outputs": [
    {
     "data": {
      "text/plain": [
       "array([[ 1402.2  ,   538.7  ],\n",
       "       [ 1651.825,   557.7  ]])"
      ]
     },
     "execution_count": 1249,
     "metadata": {},
     "output_type": "execute_result"
    }
   ],
   "source": [
    "bb._points"
   ]
  },
  {
   "cell_type": "code",
   "execution_count": 586,
   "metadata": {
    "collapsed": false
   },
   "outputs": [
    {
     "data": {
      "text/plain": [
       "'/Users/damirvana/Desktop/ecoinvent/fig.png'"
      ]
     },
     "execution_count": 586,
     "metadata": {},
     "output_type": "execute_result"
    }
   ],
   "source": [
    "os.path.join(os.getcwd(),\"fig.png\")"
   ]
  },
  {
   "cell_type": "code",
   "execution_count": null,
   "metadata": {
    "collapsed": true
   },
   "outputs": [],
   "source": []
  }
 ],
 "metadata": {
  "anaconda-cloud": {},
  "kernelspec": {
   "display_name": "Python [conda env:python2]",
   "language": "python",
   "name": "conda-env-python2-py"
  },
  "language_info": {
   "codemirror_mode": {
    "name": "ipython",
    "version": 2
   },
   "file_extension": ".py",
   "mimetype": "text/x-python",
   "name": "python",
   "nbconvert_exporter": "python",
   "pygments_lexer": "ipython2",
   "version": "2.7.13"
  }
 },
 "nbformat": 4,
 "nbformat_minor": 2
}
