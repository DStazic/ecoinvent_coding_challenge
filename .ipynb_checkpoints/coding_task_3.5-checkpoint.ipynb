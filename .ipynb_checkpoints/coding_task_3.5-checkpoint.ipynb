{
 "cells": [
  {
   "cell_type": "code",
   "execution_count": null,
   "metadata": {
    "collapsed": true
   },
   "outputs": [],
   "source": [
    "from parser import *\n",
    "from plotter import *"
   ]
  },
  {
   "cell_type": "code",
   "execution_count": null,
   "metadata": {
    "collapsed": false
   },
   "outputs": [],
   "source": [
    "def pipeline(folder_name,parseXML,plotting):\n",
    "     \"\"\"\n",
    "    Takes the folder name where the spold files are stored, parseXML class and plotting class as input.\n",
    "    For each file, parsing and plotting is invoked. The figure is saved in png format in the same folder.\n",
    "    \"\"\"\n",
    "    # take only spold files to avoid downstream errors\n",
    "    folder = [f for f in os.listdir(os.path.join(os.getcwd(),\"files\")) if re.search(r\"\\bspold\\b\", f)]\n",
    "    \n",
    "    for file_ in folder:\n",
    "        path = os.path.join(os.getcwd(),\"files\",file_)\n",
    "        #process\n",
    "        parser = parseXML(path)\n",
    "        parser.process()\n",
    "        \n",
    "        # plot\n",
    "        plotter = plotting(parser)\n",
    "        figure = plotter.plotResults() \n",
    "\n",
    "        figure.savefig(os.path.join(os.getcwd(),folder_name,\"{}_figure.png\".format(file_)))"
   ]
  },
  {
   "cell_type": "code",
   "execution_count": null,
   "metadata": {
    "collapsed": true
   },
   "outputs": [],
   "source": [
    "pipeline(\"files\",parseXML,plotting) "
   ]
  }
 ],
 "metadata": {
  "anaconda-cloud": {},
  "kernelspec": {
   "display_name": "Python [conda env:python3.5]",
   "language": "python",
   "name": "conda-env-python3.5-py"
  },
  "language_info": {
   "codemirror_mode": {
    "name": "ipython",
    "version": 3
   },
   "file_extension": ".py",
   "mimetype": "text/x-python",
   "name": "python",
   "nbconvert_exporter": "python",
   "pygments_lexer": "ipython3",
   "version": "3.5.2"
  }
 },
 "nbformat": 4,
 "nbformat_minor": 2
}
